{
 "cells": [
  {
   "cell_type": "markdown",
   "id": "b7c418a8",
   "metadata": {},
   "source": [
    "## Ejercicio 26.30 referencia 3312e_061\n",
    "\n",
    "Se considera un grupo G, parte de cuya tabla de caracteres es:\n",
    "\n",
    "| | 1 | c1 | c2 | c3 |c4|c5 |\n",
    "| --- |--- |--- |--- |--- |--- |--- |\n",
    "| | 1 | 21 | 24 | 24 | 42 | 56 |\n",
    "|$\\chi_0$| 1 | 1 | 1 | 1 | 1 | 1 |\n",
    "|$\\chi_1$| 3 | -1 | $\\xi$ | $\\overline{\\xi}$ | 1 | 0 |\n",
    "|$\\chi_2$| 3 | -1 | $\\overline{\\xi}$| $\\xi$  | 1 | 0 |\n",
    "|$\\chi_3$| 6 | 2 | -1 | -1 | 0 | 0 |\n",
    "|$\\chi_4$| 8 | 0 | 1 | 1 | 0 | -1 |\n",
    "\n",
    "Siendo $\\xi = \\frac{-1+i\\sqrt{7}}{2}$. Observa que falta una fila de la tabla de caracteres."
   ]
  },
  {
   "cell_type": "code",
   "execution_count": 1,
   "id": "4feee389",
   "metadata": {},
   "outputs": [
    {
     "name": "stdout",
     "output_type": "stream",
     "text": [
      "⎡1  1   1   1   1  1 ⎤\n",
      "⎢                    ⎥\n",
      "⎢           _        ⎥\n",
      "⎢3  -1  ξ   ξ   1  0 ⎥\n",
      "⎢                    ⎥\n",
      "⎢       _            ⎥\n",
      "⎢3  -1  ξ   ξ   1  0 ⎥\n",
      "⎢                    ⎥\n",
      "⎢6  2   -1  -1  0  0 ⎥\n",
      "⎢                    ⎥\n",
      "⎣8  0   1   1   0  -1⎦\n"
     ]
    }
   ],
   "source": [
    "import sympy as sp\n",
    "import numpy as np\n",
    "from sympy import pprint\n",
    "from IPython.display import display, Math\n",
    "\n",
    "def prod_int(m1,m2):\n",
    "    return m1.multiply_elementwise(sp.conjugate(m2))\n",
    "\n",
    "def norm_cuad(m1):\n",
    "    return prod_int(m1,m1)\n",
    "\n",
    "xi = sp.Symbol('xi')\n",
    "xi_ = sp.conjugate(xi)\n",
    "\n",
    "valores = {xi : (-1+sp.I*sp.sqrt(7))/2}\n",
    "\n",
    "# Ordenes de las clases de conjugación\n",
    "ord_cc = sp.Matrix([1,21,24,24,42,56])\n",
    "\n",
    "# Tabla de caracteres.\n",
    "# chi.row(i)[j] es aplicar chi_i a la clase de conjugación c_j\n",
    "\n",
    "chi = sp.Matrix([\n",
    "    [1,1,1,1,1,1],\n",
    "    [3,-1,xi,xi_,1,0],\n",
    "    [3,-1,xi_,xi,1,0],\n",
    "    [6,2,-1,-1,0,0],\n",
    "    [8,0,1,1,0,-1]\n",
    "])\n",
    "\n",
    "pprint(chi)\n",
    "#pprint(chi.subs(valores))"
   ]
  },
  {
   "cell_type": "markdown",
   "id": "e33978ff",
   "metadata": {},
   "source": [
    "### (1) Calcula el orden de G, el número de caracteres irreducibles y el grado de cada uno de ellos"
   ]
  },
  {
   "cell_type": "code",
   "execution_count": 2,
   "id": "461bd506",
   "metadata": {
    "scrolled": true
   },
   "outputs": [
    {
     "data": {
      "text/latex": [
       "$\\displaystyle |G| = 168$"
      ],
      "text/plain": [
       "<IPython.core.display.Math object>"
      ]
     },
     "metadata": {},
     "output_type": "display_data"
    }
   ],
   "source": [
    "ord_G = sum(ord_cc)\n",
    "\n",
    "display(Math(r'|G| = {}'.format(ord_G)))"
   ]
  },
  {
   "cell_type": "code",
   "execution_count": 3,
   "id": "982394f4",
   "metadata": {
    "scrolled": true
   },
   "outputs": [
    {
     "data": {
      "text/latex": [
       "$\\displaystyle \\text{La suma de los cuadrados de }\\chi_i(1)\\text{ actual es 119 }$"
      ],
      "text/plain": [
       "<IPython.core.display.Math object>"
      ]
     },
     "metadata": {},
     "output_type": "display_data"
    }
   ],
   "source": [
    "actual = sum( [ chi.row(i)[0]**2 for i in range(chi.shape[0]) ] )\n",
    "display(Math(r'\\text{La suma de los cuadrados de }\\chi_i(1)\\text{ actual es '+str(actual)+' }'))"
   ]
  },
  {
   "cell_type": "markdown",
   "id": "e483aba4",
   "metadata": {},
   "source": [
    "Habrá como mucho tantas clases de representaciones irreducibles como clases de conjugación.\n",
    "\n",
    "Nos falta una representación porque tiene que cumplirse que $|G| = \\sum^t_{i=0}\\chi_i(1)^2$"
   ]
  },
  {
   "cell_type": "code",
   "execution_count": 4,
   "id": "ed349071",
   "metadata": {},
   "outputs": [
    {
     "data": {
      "text/latex": [
       "$\\displaystyle 7$"
      ],
      "text/plain": [
       "7"
      ]
     },
     "execution_count": 4,
     "metadata": {},
     "output_type": "execute_result"
    }
   ],
   "source": [
    "grado_x5 = sp.sqrt(ord_G - actual)\n",
    "grado_x5"
   ]
  },
  {
   "cell_type": "markdown",
   "id": "9dfb2ca6",
   "metadata": {},
   "source": [
    "### (2) Completa la tabla de caracteres"
   ]
  },
  {
   "cell_type": "code",
   "execution_count": 5,
   "id": "06ed56bb",
   "metadata": {},
   "outputs": [
    {
     "name": "stdout",
     "output_type": "stream",
     "text": [
      "Queda el sistema\n",
      "a₀ - 7\n",
      "a₀ + 21⋅a₁ + 24⋅a₂ + 24⋅a₃ + 42⋅a₄ + 56⋅a₅\n",
      "                     _                  \n",
      "3⋅a₀ - 21⋅a₁ + 24⋅a₂⋅ξ + 24⋅a₃⋅ξ + 42⋅a₄\n",
      "                               _        \n",
      "3⋅a₀ - 21⋅a₁ + 24⋅a₂⋅ξ + 24⋅a₃⋅ξ + 42⋅a₄\n",
      "6⋅a₀ + 42⋅a₁ - 24⋅a₂ - 24⋅a₃\n",
      "8⋅a₀ + 24⋅a₂ + 24⋅a₃ - 56⋅a₅\n",
      "\n",
      " Con solución\n",
      "[{a₀: 7, a₁: -1, a₂: 0, a₃: 0, a₄: -1, a₅: 1}]\n"
     ]
    }
   ],
   "source": [
    "incognitas = sp.symbols('a:{}'.format(chi.cols))\n",
    "\n",
    "m_inc = sp.Matrix(incognitas)\n",
    "\n",
    "sistema = [incognitas[0]-grado_x5]\n",
    "\n",
    "sistema += [ ord_cc.dot( prod_int( m_inc, chi.row(i).T) ) for i in range(chi.rows) ]\n",
    "\n",
    "print('Queda el sistema')\n",
    "for s in sistema:\n",
    "    #print('\\t',end='')\n",
    "    pprint(s)\n",
    "print('\\n Con solución')\n",
    "\n",
    "solucion = sp.solve(sistema, incognitas, dict=True)\n",
    "pprint(solucion)"
   ]
  },
  {
   "cell_type": "code",
   "execution_count": 6,
   "id": "9be58410",
   "metadata": {
    "scrolled": true
   },
   "outputs": [
    {
     "name": "stdout",
     "output_type": "stream",
     "text": [
      "⎡1  1   1   1   1   1 ⎤\n",
      "⎢                     ⎥\n",
      "⎢           _         ⎥\n",
      "⎢3  -1  ξ   ξ   1   0 ⎥\n",
      "⎢                     ⎥\n",
      "⎢       _             ⎥\n",
      "⎢3  -1  ξ   ξ   1   0 ⎥\n",
      "⎢                     ⎥\n",
      "⎢6  2   -1  -1  0   0 ⎥\n",
      "⎢                     ⎥\n",
      "⎢8  0   1   1   0   -1⎥\n",
      "⎢                     ⎥\n",
      "⎣7  -1  0   0   -1  1 ⎦\n"
     ]
    }
   ],
   "source": [
    "if chi.rows>5:\n",
    "    chi.row_del(5)\n",
    "\n",
    "chi = chi.row_insert(5, sp.Matrix([i for i in solucion[0].values()]).T)\n",
    "\n",
    "pprint(chi)"
   ]
  },
  {
   "cell_type": "markdown",
   "id": "74f90538",
   "metadata": {},
   "source": [
    "Compruebo si todos los caracteres son irreducibles"
   ]
  },
  {
   "cell_type": "code",
   "execution_count": 7,
   "id": "80f55a60",
   "metadata": {
    "scrolled": true
   },
   "outputs": [
    {
     "data": {
      "text/plain": [
       "[168, 168, 168, 168, 168, 168]"
      ]
     },
     "execution_count": 7,
     "metadata": {},
     "output_type": "execute_result"
    }
   ],
   "source": [
    "[ ord_cc.dot(norm_cuad(chi.row(i))).subs(valores).expand() for i in range(chi.rows) ]\n"
   ]
  },
  {
   "cell_type": "markdown",
   "id": "3e9bd957",
   "metadata": {},
   "source": [
    "### (3) Determina todos los subgrupos normales de G, y para cada uno de ellos la tabla de caracteres del grupo cociente"
   ]
  },
  {
   "cell_type": "code",
   "execution_count": 8,
   "id": "4a3a69fe",
   "metadata": {
    "scrolled": true
   },
   "outputs": [
    {
     "data": {
      "text/plain": [
       "[['c0', 'c1', 'c2', 'c3', 'c4', 'c5'], ['c0'], ['c0'], ['c0'], ['c0'], ['c0']]"
      ]
     },
     "execution_count": 8,
     "metadata": {},
     "output_type": "execute_result"
    }
   ],
   "source": [
    "def ker(fila):\n",
    "    return [ 'c{}'.format(i) for i in range(len(fila)) if fila[i] == fila[0] ]\n",
    "    \n",
    "nucleos_de_irreducibles = [ ker(chi.row(i)) for i in range(chi.rows) ]\n",
    "nucleos_de_irreducibles"
   ]
  },
  {
   "cell_type": "markdown",
   "id": "4353dea8",
   "metadata": {},
   "source": [
    "Los únicos grupos normales son el total y el trivial\n",
    "\n",
    "El cociente por el grupo trivial tendría la misma tabla que G y el cociente por G tendría solo la representación trivial\n",
    "\n",
    "### (4) Calcula el centro y el conmutador de G\n",
    "\n",
    "Podríamos argumentar que como G no es abeliano por tener representaciones no lineales, el conmutador no puede ser el trivial y el centro no puede ser el total. Como sabemos que solo hay 2 subgrupos normales, tenemos cuál es cuál."
   ]
  },
  {
   "cell_type": "code",
   "execution_count": 9,
   "id": "b38dc964",
   "metadata": {
    "scrolled": true
   },
   "outputs": [
    {
     "name": "stdout",
     "output_type": "stream",
     "text": [
      "⎡1  1   1   1   1   1 ⎤\n",
      "⎢                     ⎥\n",
      "⎢           _         ⎥\n",
      "⎢3  -1  ξ   ξ   1   0 ⎥\n",
      "⎢                     ⎥\n",
      "⎢       _             ⎥\n",
      "⎢3  -1  ξ   ξ   1   0 ⎥\n",
      "⎢                     ⎥\n",
      "⎢6  2   -1  -1  0   0 ⎥\n",
      "⎢                     ⎥\n",
      "⎢8  0   1   1   0   -1⎥\n",
      "⎢                     ⎥\n",
      "⎣7  -1  0   0   -1  1 ⎦\n"
     ]
    }
   ],
   "source": [
    "# Vuelvo a mostrar la tabla de caracteres\n",
    "pprint(chi)"
   ]
  },
  {
   "cell_type": "markdown",
   "id": "851d8794",
   "metadata": {},
   "source": [
    "También podemos calcularlo directamente usando:\n",
    "\n",
    "$conm(G) = \\bigcap\\{\\,ker(\\chi)\\, |\\, \\text{grado de $\\chi$ es 1}\\,\\} = G$\n",
    "\n",
    "Para el centro utilizamos $cent(G) = \\bigcap_i\\{\\,g\\in G\\,|\\,\\left|\\chi_i(g)\\right| = \\chi_i(1)\\,\\}$ "
   ]
  },
  {
   "cell_type": "code",
   "execution_count": 10,
   "id": "77cfb38d",
   "metadata": {},
   "outputs": [
    {
     "data": {
      "text/plain": [
       "[['c0', 'c1', 'c2', 'c3', 'c4', 'c5'], ['c0'], ['c0'], ['c0'], ['c0'], ['c0']]"
      ]
     },
     "execution_count": 10,
     "metadata": {},
     "output_type": "execute_result"
    }
   ],
   "source": [
    "def Z(fila):\n",
    "    return [ i for i in range(len(fila)) if sp.Abs(fila[i]) == fila[0] ]\n",
    "    \n",
    "Zs = [ Z(chi.row(i)) for i in range(chi.rows) ]\n",
    "nucleos_de_irreducibles"
   ]
  },
  {
   "cell_type": "markdown",
   "id": "16783d08",
   "metadata": {},
   "source": [
    "Luego el centro de $G$ es el trivial"
   ]
  },
  {
   "cell_type": "markdown",
   "id": "e8a5ba36",
   "metadata": {},
   "source": [
    "### (5) ¿Es G un grupo soluble?"
   ]
  },
  {
   "cell_type": "markdown",
   "id": "04a40877",
   "metadata": {},
   "source": [
    "No lo va a ser ya que $Conm(G) = [G,G] = G' = G$, por tanto todos sus subgrupos derivados $G^n = [G^{n-1},G^{n-1}] = G$ y nunca podrán acabar en el trivial."
   ]
  },
  {
   "cell_type": "markdown",
   "id": "4c1a5b88",
   "metadata": {},
   "source": [
    "### (6) ¿Es G un grupo nilpotente?\n",
    "\n",
    "igual que pasaba antes, como el conmutador $Conm(G) = [G,G] = A_1 = G$, la serie central descendente nunca va a acabar en la trivial, luego no lo será. $A_n = [A_{n-1}, G] = G$"
   ]
  },
  {
   "cell_type": "markdown",
   "id": "0ed1713c",
   "metadata": {},
   "source": [
    "### (7) Prueba que si $x \\in c_1$ , entonces $x^{−1} \\in c_1$\n",
    "Nos están preguntando si la clase de conjugación $c_1$ es autoinversa y en el siguiente punto si la clase $c_2$ es la inversa de la clase $c_3$. La clase inversa es:\n",
    "\n",
    "$$c^{-1} = \\{\\,a^{-1}\\,|\\,a\\in c\\,\\}$$.\n",
    "\n",
    "Recordamos que en el ejercicio 21.2 vimos que el carácter conjugado cumple $\\overline{\\chi(a)} = \\chi(a^{-1})$. La igualdad venía por ser las matrices de la representaciones unitarias.\n",
    "\n",
    "Me he apoyado en el ejercicio 21.23.\n",
    "\n",
    "<!--\n",
    "Defino la aplicación lineal entre los espacios de las funciones de clase $\\sigma:Z(\\mathbb{C}G) \\rightarrow Z(\\mathbb{C}G)$ tal que $\\sigma(f)(a) = f(a^{-1})$ para cada $f\\in Z\\mathbb{C}G$ función de clase y cada $a\\in G$.\n",
    "\n",
    "Sabemos que las representaciones ireducibles son una base de las funciones de clase y además tenemos que $\\sigma(\\chi_1) = \\chi_1$ y que $\\sigma(\\chi_2) = \\chi_3$ y $\\sigma^2=Id$.\n",
    "-->\n",
    "\n",
    "Tenemos que $a$ y $a^{-1}$ son conjugados sí y solo sí $\\chi(a)\\in\\mathbb R$ para todo carácter irreducible (recordamos que los carácteres irreducibles son una base de las funciones de clase).\n",
    "\n",
    "Ya que $\\chi(a)=\\overline{\\chi(a)}=\\chi(a^{-1}) \\Longleftrightarrow \\chi(a)\\in\\mathbb R$.\n",
    "\n",
    "Como esto ocurre para c_1, podemos afirmar que $c_1$ es autoinversa, es decir, $x^{-1}\\in c_1$ para todo $x\\in c_1$."
   ]
  },
  {
   "cell_type": "markdown",
   "id": "7f257701",
   "metadata": {},
   "source": [
    "### (8) Prueba que si $x \\in c_2$ , entonces $x^{−1} \\in c_3$ \n",
    "\n",
    "Se tiene que para todo $a\\in c_2$, $b\\in c_3$\n",
    "$$\\chi_i(a^{-1}) = \\overline{\\chi_i(a)} = \\chi_i(b)\\;\\:\\:\\:\\:\\:i=0,\\dots,6$$."
   ]
  },
  {
   "cell_type": "markdown",
   "id": "8af26014",
   "metadata": {},
   "source": [
    "### (9) Descompón el producto $\\chi_2\\otimes\\chi_3$ en suma de irreducibles"
   ]
  },
  {
   "cell_type": "markdown",
   "id": "b3197892",
   "metadata": {},
   "source": [
    "Supongo que quiere decir el carácter del producto tensorial de las representaciones. Si \n",
    "$$\\rho:G\\to GL(V_1), \\eta:G\\to GL(V_2)$$\n",
    "Definimos\n",
    "$$\\rho\\otimes\\eta:G\\to GL(V_1\\otimes V_2)$$\n",
    "dada por\n",
    "$$(\\rho\\otimes\\eta)(a)(v_1\\otimes v_2) = \\rho(a)(v_1)\\otimes\\eta(a)(v_2)$$\n",
    "Y que cumple\n",
    "$$\\chi_{\\rho\\otimes\\eta} = \\chi_\\rho \\chi_\\eta$$"
   ]
  },
  {
   "cell_type": "code",
   "execution_count": 11,
   "id": "9ce4a8d8",
   "metadata": {},
   "outputs": [
    {
     "name": "stdout",
     "output_type": "stream",
     "text": [
      "⎡         _          ⎤\n",
      "⎣18  -2  -ξ  -ξ  0  0⎦\n"
     ]
    }
   ],
   "source": [
    "chi_prod = chi.row(2).multiply_elementwise(chi.row(3))\n",
    "pprint(chi_prod)"
   ]
  },
  {
   "cell_type": "markdown",
   "id": "b8c757d4",
   "metadata": {},
   "source": [
    "Utilizo $\\chi = d_0 \\chi_0 + \\dots + d_5\\chi_5$ donde $d_i = \\left<\\chi,\\chi_i\\right>$"
   ]
  },
  {
   "cell_type": "code",
   "execution_count": 12,
   "id": "ba08163f",
   "metadata": {},
   "outputs": [
    {
     "name": "stdout",
     "output_type": "stream",
     "text": [
      "[0 1 0 0 1 1]\n"
     ]
    }
   ],
   "source": [
    "coefs  = np.array([ (1/ord_G)*ord_cc.dot( prod_int( chi_prod, chi.row(i)) ).subs(valores).expand() for i in range(chi.rows) ])\n",
    "\n",
    "pprint(coefs)"
   ]
  },
  {
   "cell_type": "markdown",
   "id": "9c6741c7",
   "metadata": {},
   "source": [
    "$$ \\chi_{\\rho_2\\otimes\\rho_3} = \\chi_1 + \\chi_5 + \\chi_6$$\n",
    "Y por tanto\n",
    "$${\\rho_2\\otimes\\rho_3} = \\rho_1 \\oplus \\rho_5 \\oplus \\rho_6$$"
   ]
  }
 ],
 "metadata": {
  "kernelspec": {
   "display_name": "Python 3",
   "language": "python",
   "name": "python3"
  },
  "language_info": {
   "codemirror_mode": {
    "name": "ipython",
    "version": 3
   },
   "file_extension": ".py",
   "mimetype": "text/x-python",
   "name": "python",
   "nbconvert_exporter": "python",
   "pygments_lexer": "ipython3",
   "version": "3.8.10"
  }
 },
 "nbformat": 4,
 "nbformat_minor": 5
}
